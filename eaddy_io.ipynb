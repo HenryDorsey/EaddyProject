{
 "cells": [
  {
   "cell_type": "code",
   "execution_count": 50,
   "metadata": {},
   "outputs": [],
   "source": [
    "import nltk\n",
    "import pandas as pd\n",
    "import numpy as np\n",
    "from datetime import datetime as dt\n",
    "import matplotlib.pyplot as plt\n",
    "\n",
    "\n",
    "import os\n",
    "import requests\n",
    "import json\n",
    "import re \n",
    "\n",
    "import pickle\n",
    "from textblob import TextBlob\n",
    "from sklearn import metrics\n",
    "from sklearn.preprocessing import minmax_scale\n",
    "from textblob import Word\n",
    "\n",
    "#from geopy.geocoders import Nominatim "
   ]
  },
  {
   "cell_type": "markdown",
   "metadata": {},
   "source": [
    "# Summary"
   ]
  },
  {
   "cell_type": "markdown",
   "metadata": {},
   "source": [
    "To get your Factiva pdfs into a machine readable format (.txt) move them into this folder and run the cell under the heading 'Reading In PDF Data'. To get individual files as dataframes, run all cells and then pass the file you want to the factiva_parser function:\n",
    "\n",
    "my_dataframe = factiva_parser('My_File.txt')"
   ]
  },
  {
   "cell_type": "markdown",
   "metadata": {},
   "source": [
    "## Very Quick Python Review"
   ]
  },
  {
   "cell_type": "markdown",
   "metadata": {},
   "source": [
    "### Notebooks"
   ]
  },
  {
   "cell_type": "markdown",
   "metadata": {},
   "source": [
    "In a Jupyter Notebook, information is contained in vertically stacked 'cells' that can be used to either display text (like this cell) by selecting the Markdown option from the dropdown menu beneath the tabs at the top of the window or perform Python operations by selecting the Code option from the same drop down. A third option designated 'Raw' also allows for the display of text, but without Markdown formatting. Cells can be edited by double clicking within the cells. Cells are executed either by clicking the arrow to the left of the cell dropdown menu used earlier or by using the shortcut 'Ctrl + Enter'"
   ]
  },
  {
   "cell_type": "code",
   "execution_count": 2,
   "metadata": {},
   "outputs": [
    {
     "data": {
      "text/plain": [
       "4"
      ]
     },
     "execution_count": 2,
     "metadata": {},
     "output_type": "execute_result"
    }
   ],
   "source": [
    "# This cell is rendering code so anything we do not want to be evaluated must be prefaced by a '#' which is referred to as commenting out code.\n",
    "\n",
    "# Uncommented code is evaluated by the Python interpreter as seen below\n",
    "2 + 2"
   ]
  },
  {
   "cell_type": "markdown",
   "metadata": {},
   "source": [
    "### Python Data Types and Basic Structures"
   ]
  },
  {
   "cell_type": "markdown",
   "metadata": {},
   "source": [
    "As we saw above, the python interpreter can take input, perform operations on that input, and return output. There are few limits to the types of operations that can be performed on input, but there are a finite number of ways that input can be represented in Python so we will go over a couple of them here. The most common ways data are represented are int, float, str, and datetime. Any type of data can be stored in a variable which is a name that you give to the data."
   ]
  },
  {
   "cell_type": "code",
   "execution_count": 3,
   "metadata": {},
   "outputs": [
    {
     "name": "stdout",
     "output_type": "stream",
     "text": [
      "This is an int:  1\n",
      "This is a float:  1.01\n",
      "This is a string:  Hello\n",
      "This is a datetime:  2021-03-23 22:23:19.781668\n"
     ]
    }
   ],
   "source": [
    "print('This is an int: ', 1)\n",
    "print('This is a float: ', 1.01)\n",
    "print('This is a string: ', 'Hello')\n",
    "print('This is a datetime: ', dt.now())"
   ]
  },
  {
   "cell_type": "code",
   "execution_count": 4,
   "metadata": {},
   "outputs": [],
   "source": [
    "# We can assign our data to variable names to call upon them later using the '=' operator.\n",
    "\n",
    "my_integer = 1\n",
    "my_float = 1.01\n",
    "my_string = 'Hello'\n",
    "a_moment_in_time = dt.now()\n"
   ]
  },
  {
   "cell_type": "markdown",
   "metadata": {},
   "source": [
    "Note that when the above cell is run, nothing was printed below the cell. This is because we never performed any action in the cell that would return output. We were only assigning names to certain data values. We can reference those names now and the Python interpreter will return the data that the name refers to."
   ]
  },
  {
   "cell_type": "code",
   "execution_count": 5,
   "metadata": {},
   "outputs": [
    {
     "data": {
      "text/plain": [
       "datetime.datetime(2021, 3, 23, 22, 23, 19, 958142)"
      ]
     },
     "execution_count": 5,
     "metadata": {},
     "output_type": "execute_result"
    }
   ],
   "source": [
    "a_moment_in_time"
   ]
  },
  {
   "cell_type": "markdown",
   "metadata": {},
   "source": [
    "### Lists, Tuples, and Dictionaries"
   ]
  },
  {
   "cell_type": "markdown",
   "metadata": {},
   "source": [
    "These data can be arranged into several different types of structures in Python. The most basic is called a list and is created using brackets. This is useful for organizing data that you may want to treat in a unified way in the future. Lists are indexed and items can be added to or removed from the list after its creation (the list is said to be mutable). Tuples are very similar to lists except that they are not mutable and are instantiated using parentheses."
   ]
  },
  {
   "cell_type": "code",
   "execution_count": 6,
   "metadata": {},
   "outputs": [
    {
     "name": "stdout",
     "output_type": "stream",
     "text": [
      "[1, 1.01, 'Hello', datetime.datetime(2021, 3, 23, 22, 23, 19, 958142)]\n",
      "(1, 1.01, 'Hello', datetime.datetime(2021, 3, 23, 22, 23, 19, 958142))\n"
     ]
    },
    {
     "data": {
      "text/plain": [
       "1"
      ]
     },
     "execution_count": 6,
     "metadata": {},
     "output_type": "execute_result"
    }
   ],
   "source": [
    "my_list = [my_integer, my_float, my_string, a_moment_in_time]\n",
    "print(my_list)\n",
    "\n",
    "my_tuple = (my_integer, my_float, my_string, a_moment_in_time)\n",
    "print(my_tuple)\n",
    "\n",
    "my_list[0]"
   ]
  },
  {
   "cell_type": "markdown",
   "metadata": {},
   "source": [
    "Dictionaries are Pythons implementation of hash tables. Hash tables are data structures that relate named keys to certain values, known as a key-value pair. This is fundamentally different from lists or tuples in that the indexes are no longer positional, but rather indexed by the key. This key can be thought of as similar to a variable name that references the value inside the dictionary. Dictionaries are instantiated using curly brackets with keys and values being related using semicolons."
   ]
  },
  {
   "cell_type": "code",
   "execution_count": 7,
   "metadata": {},
   "outputs": [
    {
     "name": "stdout",
     "output_type": "stream",
     "text": [
      "1\n",
      "for_either_key_or_value\n"
     ]
    }
   ],
   "source": [
    "my_dictionary = {'first_key':1, 'second_key':2, 'you_can_put_whatever_you_want':'for_either_key_or_value'}\n",
    "\n",
    "print(my_dictionary['first_key'])\n",
    "print(my_dictionary['you_can_put_whatever_you_want'])"
   ]
  },
  {
   "cell_type": "markdown",
   "metadata": {},
   "source": [
    "It is worth noting that .json files can be represented in Python as nested dictionaries."
   ]
  },
  {
   "cell_type": "markdown",
   "metadata": {},
   "source": [
    "### Pandas and Numpy Arrays"
   ]
  },
  {
   "cell_type": "markdown",
   "metadata": {},
   "source": [
    "The most common way to handle larger amounts of data inside python is in a pandas dataframe. This can be thought of as pythons version of an Excel table or spreadsheet. It is comprised of columns and rows with the convention being that each column is a variable and each row is an observation. There are many different ways to create dataframes, but the most common is to read in from a csv file using pd.read_csv(). Pandas dataframes are very robust ways to manipulate data but have some important differences from simpler data structures. \n",
    "\n",
    "* Columns may contain different data types as in lists or tuples, but this can cause problems when attempting to perform full column calculations\n",
    "* Pandas dataframes can be indexed by either name or location using the .loc and .iloc methods respectively\n",
    "* Pandas contains many ways to manipulate the data inside dataframes, which creates overhead. Pandas dataframes will be slightly slower than simpler representations of data, such as lists, or arrays\n",
    "\n",
    "Numpy arrays are vectorized matrices that allow for increased computational efficiency compared to pandas dataframes. They are MUCH less flexible than pandas dataframes in terms of what operations they allow and are mostly used for more complex mathematics."
   ]
  },
  {
   "cell_type": "code",
   "execution_count": 8,
   "metadata": {},
   "outputs": [
    {
     "data": {
      "text/html": [
       "<div>\n",
       "<style scoped>\n",
       "    .dataframe tbody tr th:only-of-type {\n",
       "        vertical-align: middle;\n",
       "    }\n",
       "\n",
       "    .dataframe tbody tr th {\n",
       "        vertical-align: top;\n",
       "    }\n",
       "\n",
       "    .dataframe thead th {\n",
       "        text-align: right;\n",
       "    }\n",
       "</style>\n",
       "<table border=\"1\" class=\"dataframe\">\n",
       "  <thead>\n",
       "    <tr style=\"text-align: right;\">\n",
       "      <th></th>\n",
       "      <th>column1</th>\n",
       "      <th>column2</th>\n",
       "      <th>descriptive_col_name</th>\n",
       "    </tr>\n",
       "  </thead>\n",
       "  <tbody>\n",
       "    <tr>\n",
       "      <th>0</th>\n",
       "      <td>1</td>\n",
       "      <td>two_types</td>\n",
       "      <td>all</td>\n",
       "    </tr>\n",
       "    <tr>\n",
       "      <th>1</th>\n",
       "      <td>2</td>\n",
       "      <td>of_data</td>\n",
       "      <td>the</td>\n",
       "    </tr>\n",
       "    <tr>\n",
       "      <th>2</th>\n",
       "      <td>3</td>\n",
       "      <td>1</td>\n",
       "      <td>strings</td>\n",
       "    </tr>\n",
       "  </tbody>\n",
       "</table>\n",
       "</div>"
      ],
      "text/plain": [
       "   column1    column2 descriptive_col_name\n",
       "0        1  two_types                  all\n",
       "1        2    of_data                  the\n",
       "2        3          1              strings"
      ]
     },
     "execution_count": 8,
     "metadata": {},
     "output_type": "execute_result"
    }
   ],
   "source": [
    "my_df = pd.DataFrame({'column1':[1, 2, 3],\n",
    "                      'column2':['two_types', 'of_data', 1],\n",
    "                      'descriptive_col_name':['all', 'the', 'strings']})\n",
    "\n",
    "my_df"
   ]
  },
  {
   "cell_type": "markdown",
   "metadata": {},
   "source": [
    "### Logic and Control Flow"
   ]
  },
  {
   "cell_type": "markdown",
   "metadata": {},
   "source": [
    "Python has a number of different operations that allow you to add more complex behavior to your python code. Two of these ways are conditionals and control flow statements. Conditionals evaluate some True-False statement and execute different segments of code depending on the result. Control flow statements allow you rerun a block of code a set number of times. The two most common implementations of conditionals and control flow are 'if-else' statements and for loops resepctively."
   ]
  },
  {
   "cell_type": "code",
   "execution_count": 9,
   "metadata": {},
   "outputs": [
    {
     "name": "stdout",
     "output_type": "stream",
     "text": [
      "Bring it on in\n",
      "It stays outside\n",
      "Bring it on in\n"
     ]
    }
   ],
   "source": [
    "x = {'cat':'small', 'elephant':'large','dog':'in-between'}\n",
    "\n",
    "for i in x:\n",
    "    if x[i]=='large':\n",
    "        print('It stays outside')\n",
    "    else:\n",
    "        print('Bring it on in')"
   ]
  },
  {
   "cell_type": "markdown",
   "metadata": {},
   "source": [
    "Above we see that the if statement evaluated whether the value associated with key contained the string 'large'. If it evaluated as True, the first output was returned; otherwise the second value was returned. The for loop allowed this evaluation to be performed for every key value in the dictionary x."
   ]
  },
  {
   "cell_type": "markdown",
   "metadata": {},
   "source": [
    "## Reading in PDF Data"
   ]
  },
  {
   "cell_type": "markdown",
   "metadata": {},
   "source": [
    "The following cell reads all available .pdf files in the local directory and converts the well formatted files into .txt files which are more amenable to processing."
   ]
  },
  {
   "cell_type": "code",
   "execution_count": 47,
   "metadata": {},
   "outputs": [],
   "source": [
    "#for root, dirs, files in os.walk(\".\"):\n",
    "#    for filename in files:\n",
    "#        if filename.endswith('.pdf'):\n",
    "#            !pdftotext {filename}\n",
    "\n",
    "from nltk.corpus import stopwords\n",
    "stop = stopwords.words('english')"
   ]
  },
  {
   "cell_type": "markdown",
   "metadata": {},
   "source": [
    "## Parsing Factiva Data"
   ]
  },
  {
   "cell_type": "markdown",
   "metadata": {},
   "source": [
    "Its a good idea to look at the raw text data to make sure it looks similar to the pdf file. Improperly formatted pdf files can be difficult or impossible to convert to machine readable format. Since we are primarily pulling from a single source this shouldn't be a problem but it is important to be aware of the potential issue if using pdf's from other sources. "
   ]
  },
  {
   "cell_type": "code",
   "execution_count": 11,
   "metadata": {},
   "outputs": [
    {
     "data": {
      "text/plain": [
       "['Marketing has looked at the succesful PR re-launch of the Johnson and Johnson drug Tylenol. .................................5\\n',\n",
       " \"Johnson and Johnson's Tylenol analgesic capsules have staged a dramatic recovery since seven people in Chicago\\n\",\n",
       " 'died after taking Tylenol... ...............................................................................................................................................6\\n',\n",
       " 'Johnson and Johnson has reported net earnings of $150.3m, or 79 cents a share, for the third quarter of 1983. ..........\\n',\n",
       " '7\\n',\n",
       " 'No Headline ....................................................................................................................................................................8\\n',\n",
       " 'Companies and Markets: Drug problems hit Johnson &Johnson ...................................................................................9\\n',\n",
       " 'JOHNSON & JOHNSON 3RD QTR NET 79C A SHARE VS. OPER. NET 78C ..........................................................10\\n',\n",
       " 'Defense Calls Publicity Goal Of Tylenol Extortion Letters ...........................................................................................11\\n',\n",
       " 'HEADLINERS ..............................................................................................................................................................12\\n',\n",
       " \"'HUMANIZING' CORPORATIONS ...............................................................................................................................13\\n\",\n",
       " 'Tylenol Letter Writer Denies Profit Motive .....................................................................................................................15\\n',\n",
       " 'AROUND THE NATION; Arguments Open in Case Of Tylenol Extortion ....................................................................16\\n',\n",
       " 'AROUND THE NATION; Trial Begins for Suspect In Tylenol Extortion .......................................................................17\\n',\n",
       " \"AROUND THE NATION; Co-Tylenol Ruled Out As Cause of Man's Death .................................................................18\\n\",\n",
       " 'Boots pain-relieving drug given approval in US ............................................................................................................19\\n',\n",
       " 'ADVERTISING; Bristol-Myers Plans Big Coupon Campaign .......................................................................................21\\n',\n",
       " 'JOHNSON & JOHNSON UNIT HAVING TROUBLE WITH 24-TABLET BOTTLES ....................................................22\\n',\n",
       " 'ANNUAL REPORTS: MORE CANDOR .......................................................................................................................23\\n',\n",
       " 'STERLING DRUG CHALLENGES TYLENOL WITH PANADOL BRAND ...................................................................25\\n']"
      ]
     },
     "execution_count": 11,
     "metadata": {},
     "output_type": "execute_result"
    }
   ],
   "source": [
    "f =  open('./JnJ80_84.txt', 'r')  \n",
    "factiva_raw = f.readlines()\n",
    "f.close()\n",
    "\n",
    "factiva_raw[:20]\n"
   ]
  },
  {
   "cell_type": "markdown",
   "metadata": {},
   "source": [
    "----------"
   ]
  },
  {
   "cell_type": "markdown",
   "metadata": {},
   "source": [
    "It looks like we have successfully read in the pdf file into a text file. Notice that when using the readlines method, the output is a list with each line getting it's own entry in the list. The newline character '\\n' is also left uninterpreted and included in the output. Both of these observations will be important to recognize during processing."
   ]
  },
  {
   "cell_type": "markdown",
   "metadata": {},
   "source": [
    "We now have the data from Factiva in a text file but before we can start to extract information from it we must first convert it to a more organized structure. We will do this by parsing the text using regular expressions. Regular expressions are patterns that allow the user to specify patterns of strings that the regular expression will match. This will allow us to identify useful parts of the text and arrange them accordingly. Regular expressions can be hard interpret due to their concise notation, but a good intro to them and their use can be found at https://docs.python.org/3/library/re.html"
   ]
  },
  {
   "cell_type": "markdown",
   "metadata": {},
   "source": [
    "We will start by building functions that use regular expressions to extract"
   ]
  },
  {
   "cell_type": "code",
   "execution_count": 12,
   "metadata": {},
   "outputs": [],
   "source": [
    "def get_titles(factiva_by_lines):\n",
    "    \n",
    "    \n",
    "    # The re expressions used here were created by identifying common patterns present in \n",
    "    # the Factiva formatting.\n",
    "    title_end = re.compile('\\.+\\d{1,4}\\\\n')\n",
    "    new_line = re.compile('\\D\\\\n')\n",
    "    article_start = re.compile('\\d{1,3} words$')\n",
    "    \n",
    "    # \n",
    "    current = ''\n",
    "    titles = []\n",
    "    \n",
    "    for line in factiva_by_lines:\n",
    "        \n",
    "        regex_end = title_end.search(line)\n",
    "        regex_new = new_line.search(line)\n",
    "        regex_break = article_start.search(line)\n",
    "        \n",
    "        # Detects if the title portion has ended and breaks the loop if so\n",
    "        if regex_break:\n",
    "            break\n",
    "            \n",
    "        # Handles titles that don't fit on one line\n",
    "        if regex_new:\n",
    "            current += line[:regex_new.span()[0]+1]\n",
    "            continue\n",
    "        \n",
    "        if regex_end:\n",
    "            \n",
    "            # Strips all the dots from the title using the indices in the regular expression\n",
    "            title = line[:regex_end.span()[0]]\n",
    "            current += title\n",
    "            titles.append(current)\n",
    "            current = ''\n",
    "    \n",
    "    return titles"
   ]
  },
  {
   "cell_type": "code",
   "execution_count": 13,
   "metadata": {},
   "outputs": [],
   "source": [
    "def get_articles(factiva_by_lines):\n",
    "    lines = []\n",
    "    article = ''\n",
    "    articles = []\n",
    "    \n",
    "    article_flag = 0\n",
    "    \n",
    "    regex_date = re.compile('^[0-9]?[0-9] (January|February|March|April|May|June|July|August|September|October|November|December) [0-9][0-9][0-9][0-9]$')\n",
    "    regex_end = re.compile('^Document \\S{25}')\n",
    "    \n",
    "    for i in factiva_by_lines:\n",
    "        article_start = regex_date.search(i)\n",
    "        article_end = regex_end.search(i)\n",
    "        \n",
    "        if article_start:\n",
    "            article_flag = 1\n",
    "        if article_end:\n",
    "            articles.append(article)\n",
    "            article = ''\n",
    "            article_flag = 0\n",
    "        if article_flag:\n",
    "            article += i\n",
    "    \n",
    "    \n",
    "    return articles"
   ]
  },
  {
   "cell_type": "code",
   "execution_count": 68,
   "metadata": {},
   "outputs": [
    {
     "data": {
      "text/plain": [
       "98"
      ]
     },
     "execution_count": 68,
     "metadata": {},
     "output_type": "execute_result"
    }
   ],
   "source": [
    "len(get_articles(factiva_raw))"
   ]
  },
  {
   "cell_type": "code",
   "execution_count": 14,
   "metadata": {},
   "outputs": [
    {
     "data": {
      "text/plain": [
       "'Barrons'"
      ]
     },
     "execution_count": 14,
     "metadata": {},
     "output_type": "execute_result"
    }
   ],
   "source": [
    "title = 'Barrons0812_safety_29ove353.pdf'\n",
    "regex = re.compile(\"^\\D*\\d\")\n",
    "match = regex.search(title)\n",
    "match[0][:-1]"
   ]
  },
  {
   "cell_type": "code",
   "execution_count": 51,
   "metadata": {},
   "outputs": [],
   "source": [
    "def get_factiva_title(folder='Eaddy_Factiva'):\n",
    "    for _, _, files in os.walk('Eaddy_Factiva'):\n",
    "        for filename in files:\n",
    "            if filename.endswith('.pdf'):\n",
    "                print(filename)\n",
    "        break\n",
    "\n",
    "def factiva_parser(factiva_txt, stopwords=stop):\n",
    "    f =  open(factiva_txt, 'r')  \n",
    "    factiva_raw = f.readlines()\n",
    "    f.close()\n",
    "    \n",
    "    titles = get_titles(factiva_raw)\n",
    "    articles = get_articles(factiva_raw)\n",
    "    \n",
    "    df = pd.DataFrame({'titles':titles, 'articles':articles})\n",
    "    \n",
    "    # Preprocessing\n",
    "    # lowercase\n",
    "    df['articles'] = df['articles'].apply(lambda x: \" \".join(x.lower() for x in x.split()))\n",
    "    # symbols\n",
    "    df['articles'] = df['articles'].str.replace('[^\\w\\s]','', regex=True) \n",
    "    # stopwords\n",
    "    df['articles'] = df['articles'].apply(lambda x: \" \".join(x for x in x.split() if x not in stopwords))\n",
    "    # common Words\n",
    "    freq = pd.Series(' '.join(df['articles']).split()).value_counts()[:10]\n",
    "    df['articles'] = df['articles'].apply(lambda x: \" \".join(x for x in x.split() if x not in freq))\n",
    "    # lemmatization\n",
    "    df['articles'] = df['articles'].apply(lambda x: \" \".join([Word(word).lemmatize() for word in x.split()]))\n",
    "    \n",
    "    \n",
    "    return df"
   ]
  },
  {
   "cell_type": "code",
   "execution_count": 52,
   "metadata": {},
   "outputs": [],
   "source": [
    "factiva_df = factiva_parser('./JnJ80_84.txt')"
   ]
  },
  {
   "cell_type": "code",
   "execution_count": 18,
   "metadata": {},
   "outputs": [],
   "source": [
    "factiva_df['articles'] = factiva_df['articles'].apply(lambda x: x.replace('\\n', ' '))"
   ]
  },
  {
   "cell_type": "code",
   "execution_count": 19,
   "metadata": {},
   "outputs": [
    {
     "data": {
      "text/plain": [
       "\"2 December 1983 Marketing MKTG 12 English (c) 1983 Haymarket Business Publications Limited . No part of this data may be reproduced without prior written permission of the owner. A crisis came in Tylenol's sales when the analgesic was contaminated in-store with cyanide causing 7 deaths. To allay public reaction to this disaster, staff volunteers manned a telephone hotline, 150,000 press advertisments were taken out, and 450,000 mailgrams sent. The food and Drugs Administration testified that Johnson was not responsible for the contaminations. A decision was made not to change the name of Tylenol for its relaunch. A tamper resistant pack was designed and the product relaunched on November 11th. Within 12 month's Tylenol's share of the over-the-counter analgesic market has risen from 7% to 28.6%. \""
      ]
     },
     "execution_count": 19,
     "metadata": {},
     "output_type": "execute_result"
    }
   ],
   "source": [
    "factiva_df.iloc[0,1]"
   ]
  },
  {
   "cell_type": "code",
   "execution_count": 20,
   "metadata": {},
   "outputs": [
    {
     "data": {
      "text/html": [
       "<div>\n",
       "<style scoped>\n",
       "    .dataframe tbody tr th:only-of-type {\n",
       "        vertical-align: middle;\n",
       "    }\n",
       "\n",
       "    .dataframe tbody tr th {\n",
       "        vertical-align: top;\n",
       "    }\n",
       "\n",
       "    .dataframe thead th {\n",
       "        text-align: right;\n",
       "    }\n",
       "</style>\n",
       "<table border=\"1\" class=\"dataframe\">\n",
       "  <thead>\n",
       "    <tr style=\"text-align: right;\">\n",
       "      <th></th>\n",
       "      <th>titles</th>\n",
       "      <th>articles</th>\n",
       "    </tr>\n",
       "  </thead>\n",
       "  <tbody>\n",
       "    <tr>\n",
       "      <th>0</th>\n",
       "      <td>Marketing has looked at the succesful PR re-la...</td>\n",
       "      <td>2 December 1983 Marketing MKTG 12 English (c) ...</td>\n",
       "    </tr>\n",
       "    <tr>\n",
       "      <th>1</th>\n",
       "      <td>Johnson and Johnson's Tylenol analgesic capsul...</td>\n",
       "      <td>25 November 1983 Campaign CMPN 8 English (c) 1...</td>\n",
       "    </tr>\n",
       "    <tr>\n",
       "      <th>2</th>\n",
       "      <td>Johnson and Johnson has reported net earnings ...</td>\n",
       "      <td>28 October 1983 Financial Times FTFT 25 Englis...</td>\n",
       "    </tr>\n",
       "    <tr>\n",
       "      <th>3</th>\n",
       "      <td>Companies and Markets: Drug problems hit Johns...</td>\n",
       "      <td>28 October 1983 The New York Times NYTF Late C...</td>\n",
       "    </tr>\n",
       "    <tr>\n",
       "      <th>4</th>\n",
       "      <td>JOHNSON &amp; JOHNSON 3RD QTR NET 79C A SHARE VS. ...</td>\n",
       "      <td>28 October 1983 Financial Times FTFT Page 17 E...</td>\n",
       "    </tr>\n",
       "  </tbody>\n",
       "</table>\n",
       "</div>"
      ],
      "text/plain": [
       "                                              titles  \\\n",
       "0  Marketing has looked at the succesful PR re-la...   \n",
       "1  Johnson and Johnson's Tylenol analgesic capsul...   \n",
       "2  Johnson and Johnson has reported net earnings ...   \n",
       "3  Companies and Markets: Drug problems hit Johns...   \n",
       "4  JOHNSON & JOHNSON 3RD QTR NET 79C A SHARE VS. ...   \n",
       "\n",
       "                                            articles  \n",
       "0  2 December 1983 Marketing MKTG 12 English (c) ...  \n",
       "1  25 November 1983 Campaign CMPN 8 English (c) 1...  \n",
       "2  28 October 1983 Financial Times FTFT 25 Englis...  \n",
       "3  28 October 1983 The New York Times NYTF Late C...  \n",
       "4  28 October 1983 Financial Times FTFT Page 17 E...  "
      ]
     },
     "execution_count": 20,
     "metadata": {},
     "output_type": "execute_result"
    }
   ],
   "source": [
    "factiva_df.head()"
   ]
  },
  {
   "cell_type": "code",
   "execution_count": 21,
   "metadata": {},
   "outputs": [
    {
     "data": {
      "text/plain": [
       "98"
      ]
     },
     "execution_count": 21,
     "metadata": {},
     "output_type": "execute_result"
    }
   ],
   "source": [
    "len(factiva_df)"
   ]
  },
  {
   "cell_type": "code",
   "execution_count": 22,
   "metadata": {},
   "outputs": [
    {
     "data": {
      "text/plain": [
       "Text(0, 0.5, 'Scaling Factor')"
      ]
     },
     "execution_count": 22,
     "metadata": {},
     "output_type": "execute_result"
    },
    {
     "data": {
      "image/png": "[encoded data removed]",
      "text/plain": [
       "<Figure size 432x288 with 1 Axes>"
      ]
     },
     "metadata": {
      "needs_background": "light"
     },
     "output_type": "display_data"
    }
   ],
   "source": [
    "# Corpus Scope vs Article Scope\n",
    "def fy(x, floor=0.2, shape=.6):\n",
    "    return ((1/np.exp(x*shape))*(1-floor) + floor)\n",
    "\n",
    "x = list(range(50))\n",
    "y = [fy(i) for i in x]\n",
    "plt.plot(x,y)\n",
    "plt.xlabel('Years Ago')\n",
    "plt.ylabel('Scaling Factor')\n",
    "\n"
   ]
  },
  {
   "cell_type": "code",
   "execution_count": 23,
   "metadata": {},
   "outputs": [],
   "source": [
    "# calling the Nominatim tool \n",
    "#loc = Nominatim(user_agent=\"GetLoc\") \n",
    "  \n",
    "# entering the location name \n",
    "#getLoc = loc.geocode(\"\", exactly_one=False) \n",
    "  \n",
    "# printing address \n",
    "#print(getLoc) "
   ]
  },
  {
   "cell_type": "markdown",
   "metadata": {},
   "source": [
    "### NRC Lexicon"
   ]
  },
  {
   "cell_type": "code",
   "execution_count": 24,
   "metadata": {},
   "outputs": [
    {
     "data": {
      "text/html": [
       "<div>\n",
       "<style scoped>\n",
       "    .dataframe tbody tr th:only-of-type {\n",
       "        vertical-align: middle;\n",
       "    }\n",
       "\n",
       "    .dataframe tbody tr th {\n",
       "        vertical-align: top;\n",
       "    }\n",
       "\n",
       "    .dataframe thead th {\n",
       "        text-align: right;\n",
       "    }\n",
       "</style>\n",
       "<table border=\"1\" class=\"dataframe\">\n",
       "  <thead>\n",
       "    <tr style=\"text-align: right;\">\n",
       "      <th></th>\n",
       "      <th>word</th>\n",
       "      <th>emotion</th>\n",
       "      <th>association</th>\n",
       "    </tr>\n",
       "  </thead>\n",
       "  <tbody>\n",
       "    <tr>\n",
       "      <th>0</th>\n",
       "      <td>aback</td>\n",
       "      <td>anger</td>\n",
       "      <td>0</td>\n",
       "    </tr>\n",
       "    <tr>\n",
       "      <th>1</th>\n",
       "      <td>aback</td>\n",
       "      <td>anticipation</td>\n",
       "      <td>0</td>\n",
       "    </tr>\n",
       "    <tr>\n",
       "      <th>2</th>\n",
       "      <td>aback</td>\n",
       "      <td>disgust</td>\n",
       "      <td>0</td>\n",
       "    </tr>\n",
       "    <tr>\n",
       "      <th>3</th>\n",
       "      <td>aback</td>\n",
       "      <td>fear</td>\n",
       "      <td>0</td>\n",
       "    </tr>\n",
       "    <tr>\n",
       "      <th>4</th>\n",
       "      <td>aback</td>\n",
       "      <td>joy</td>\n",
       "      <td>0</td>\n",
       "    </tr>\n",
       "    <tr>\n",
       "      <th>5</th>\n",
       "      <td>aback</td>\n",
       "      <td>negative</td>\n",
       "      <td>0</td>\n",
       "    </tr>\n",
       "    <tr>\n",
       "      <th>6</th>\n",
       "      <td>aback</td>\n",
       "      <td>positive</td>\n",
       "      <td>0</td>\n",
       "    </tr>\n",
       "    <tr>\n",
       "      <th>7</th>\n",
       "      <td>aback</td>\n",
       "      <td>sadness</td>\n",
       "      <td>0</td>\n",
       "    </tr>\n",
       "    <tr>\n",
       "      <th>8</th>\n",
       "      <td>aback</td>\n",
       "      <td>surprise</td>\n",
       "      <td>0</td>\n",
       "    </tr>\n",
       "    <tr>\n",
       "      <th>9</th>\n",
       "      <td>aback</td>\n",
       "      <td>trust</td>\n",
       "      <td>0</td>\n",
       "    </tr>\n",
       "    <tr>\n",
       "      <th>10</th>\n",
       "      <td>abacus</td>\n",
       "      <td>anger</td>\n",
       "      <td>0</td>\n",
       "    </tr>\n",
       "    <tr>\n",
       "      <th>11</th>\n",
       "      <td>abacus</td>\n",
       "      <td>anticipation</td>\n",
       "      <td>0</td>\n",
       "    </tr>\n",
       "    <tr>\n",
       "      <th>12</th>\n",
       "      <td>abacus</td>\n",
       "      <td>disgust</td>\n",
       "      <td>0</td>\n",
       "    </tr>\n",
       "    <tr>\n",
       "      <th>13</th>\n",
       "      <td>abacus</td>\n",
       "      <td>fear</td>\n",
       "      <td>0</td>\n",
       "    </tr>\n",
       "    <tr>\n",
       "      <th>14</th>\n",
       "      <td>abacus</td>\n",
       "      <td>joy</td>\n",
       "      <td>0</td>\n",
       "    </tr>\n",
       "    <tr>\n",
       "      <th>15</th>\n",
       "      <td>abacus</td>\n",
       "      <td>negative</td>\n",
       "      <td>0</td>\n",
       "    </tr>\n",
       "    <tr>\n",
       "      <th>16</th>\n",
       "      <td>abacus</td>\n",
       "      <td>positive</td>\n",
       "      <td>0</td>\n",
       "    </tr>\n",
       "    <tr>\n",
       "      <th>17</th>\n",
       "      <td>abacus</td>\n",
       "      <td>sadness</td>\n",
       "      <td>0</td>\n",
       "    </tr>\n",
       "    <tr>\n",
       "      <th>18</th>\n",
       "      <td>abacus</td>\n",
       "      <td>surprise</td>\n",
       "      <td>0</td>\n",
       "    </tr>\n",
       "    <tr>\n",
       "      <th>19</th>\n",
       "      <td>abacus</td>\n",
       "      <td>trust</td>\n",
       "      <td>1</td>\n",
       "    </tr>\n",
       "  </tbody>\n",
       "</table>\n",
       "</div>"
      ],
      "text/plain": [
       "      word       emotion  association\n",
       "0    aback         anger            0\n",
       "1    aback  anticipation            0\n",
       "2    aback       disgust            0\n",
       "3    aback          fear            0\n",
       "4    aback           joy            0\n",
       "5    aback      negative            0\n",
       "6    aback      positive            0\n",
       "7    aback       sadness            0\n",
       "8    aback      surprise            0\n",
       "9    aback         trust            0\n",
       "10  abacus         anger            0\n",
       "11  abacus  anticipation            0\n",
       "12  abacus       disgust            0\n",
       "13  abacus          fear            0\n",
       "14  abacus           joy            0\n",
       "15  abacus      negative            0\n",
       "16  abacus      positive            0\n",
       "17  abacus       sadness            0\n",
       "18  abacus      surprise            0\n",
       "19  abacus         trust            1"
      ]
     },
     "execution_count": 24,
     "metadata": {},
     "output_type": "execute_result"
    }
   ],
   "source": [
    "filepath = \"./Eaddy_Factiva/NRC-Suite-of-Sentiment-Emotion-Lexicons/NRC-Suite-of-Sentiment-Emotion-Lexicons/NRC-Sentiment-Emotion-Lexicons/NRC-Emotion-Lexicon-v0.92/NRC-Emotion-Lexicon-Wordlevel-v0.92.txt\"\n",
    "emolex_df = pd.read_csv(filepath,  names=[\"word\", \"emotion\", \"association\"], sep='\\t')\n",
    "emolex_df.head(20)"
   ]
  },
  {
   "cell_type": "code",
   "execution_count": 31,
   "metadata": {},
   "outputs": [
    {
     "data": {
      "text/plain": [
       "-0.03428571428571429"
      ]
     },
     "execution_count": 31,
     "metadata": {},
     "output_type": "execute_result"
    }
   ],
   "source": [
    "get_valence(factiva_df.iloc[0,1])"
   ]
  },
  {
   "cell_type": "markdown",
   "metadata": {},
   "source": [
    "## Salience Factors"
   ]
  },
  {
   "cell_type": "code",
   "execution_count": 30,
   "metadata": {},
   "outputs": [],
   "source": [
    "def time_decay_fx(x, floor=0.5, shape=0.5):\n",
    "    return ((1/np.exp(x*shape))*(1-floor) + floor)\n",
    "\n",
    "def get_valence(article):\n",
    "    sentiment, subjectivity = TextBlob(article).sentiment\n",
    "    return sentiment\n",
    "\n",
    "def get_factiva_date(article):\n",
    "    regex_date = re.compile('^[0-9]?[0-9] (January|February|March|April|May|June|July|August|September|October|November|December) [0-9][0-9][0-9][0-9]')\n",
    "    date = regex_date.search(article)\n",
    "    date = dt.strptime(date[0], '%d %B %Y')\n",
    "    return date\n",
    "\n",
    "def get_factiva_proximity(article, time_decay_params):\n",
    "    \n",
    "    now = dt.now()\n",
    "    date = get_factiva_date(article)\n",
    "    yrs_ago = (now-date).days/365\n",
    "    time_decay = time_decay_fx(yrs_ago, time_decay_params)\n",
    "    \n",
    "    # In the future maybe use machine learning to contextually identify locations. \n",
    "    return time_decay\n",
    "    \n",
    "\n",
    "\n",
    "def get_crisis_emotions(article,nrc_df=emolex_df):\n",
    "    # Need to associate negative and positive with the words they correspond to and modify meaning accordingly\n",
    "    article_dict = {'anger':0,\n",
    "                    'negative':0,\n",
    "                    'positive':0,\n",
    "                    'anticipation':0,\n",
    "                    'disgust':0,\n",
    "                    'fear':0,\n",
    "                    'joy':0,\n",
    "                    'sadness':0,\n",
    "                    'surprise':0,\n",
    "                    'trust':0}\n",
    "    nrc_words = pd.unique(nrc_df['word'])\n",
    "    article_words =nltk.word_tokenize(article)\n",
    "    \n",
    "    # instead of iterating, make it vectorized for improved performance\n",
    "    for i in article_words:\n",
    "        if i in nrc_words:\n",
    "            subset = nrc_df[nrc_df['word']==i]\n",
    "            for j in range(subset.shape[0]):\n",
    "                idx = min(subset.index)\n",
    "                key = subset.loc[idx+j,'emotion']\n",
    "                val = subset.loc[idx+j, 'association']\n",
    "                article_dict[key] += val\n",
    "    article_dict['total'] = len(article_words)\n",
    "    return article_dict\n",
    "            \n",
    "    \n",
    "    \n",
    "# get_crisis_type will difficult as that is obfuscated by fluid subject object relationships when identifying victimhood.\n",
    "#def get_crisis_type(article):\n",
    "    #return"
   ]
  },
  {
   "cell_type": "code",
   "execution_count": 32,
   "metadata": {},
   "outputs": [
    {
     "data": {
      "text/plain": [
       "{'anger': 1,\n",
       " 'negative': 5,\n",
       " 'positive': 6,\n",
       " 'anticipation': 2,\n",
       " 'disgust': 2,\n",
       " 'fear': 5,\n",
       " 'joy': 2,\n",
       " 'sadness': 2,\n",
       " 'surprise': 1,\n",
       " 'trust': 4,\n",
       " 'total': 143}"
      ]
     },
     "execution_count": 32,
     "metadata": {},
     "output_type": "execute_result"
    }
   ],
   "source": [
    "get_crisis_emotions(factiva_df.iloc[0,1])"
   ]
  },
  {
   "cell_type": "code",
   "execution_count": 33,
   "metadata": {},
   "outputs": [
    {
     "name": "stdout",
     "output_type": "stream",
     "text": [
      "37.33424657534247\n",
      "1983-12-02 00:00:00\n"
     ]
    },
    {
     "data": {
      "text/plain": [
       "datetime.datetime(1983, 12, 2, 0, 0)"
      ]
     },
     "execution_count": 33,
     "metadata": {},
     "output_type": "execute_result"
    }
   ],
   "source": [
    "print((dt.now()- get_factiva_date(factiva_df.iloc[0,1])).days/365)\n",
    "print(get_factiva_date(factiva_df.iloc[0,1]))\n",
    "get_factiva_date(factiva_df.iloc[0,1])"
   ]
  },
  {
   "cell_type": "code",
   "execution_count": 34,
   "metadata": {},
   "outputs": [],
   "source": [
    "factiva_df['Date'] = factiva_df['articles'].apply(get_factiva_date)"
   ]
  },
  {
   "cell_type": "code",
   "execution_count": 35,
   "metadata": {},
   "outputs": [
    {
     "data": {
      "text/html": [
       "<div>\n",
       "<style scoped>\n",
       "    .dataframe tbody tr th:only-of-type {\n",
       "        vertical-align: middle;\n",
       "    }\n",
       "\n",
       "    .dataframe tbody tr th {\n",
       "        vertical-align: top;\n",
       "    }\n",
       "\n",
       "    .dataframe thead th {\n",
       "        text-align: right;\n",
       "    }\n",
       "</style>\n",
       "<table border=\"1\" class=\"dataframe\">\n",
       "  <thead>\n",
       "    <tr style=\"text-align: right;\">\n",
       "      <th></th>\n",
       "      <th>titles</th>\n",
       "      <th>articles</th>\n",
       "      <th>Date</th>\n",
       "    </tr>\n",
       "  </thead>\n",
       "  <tbody>\n",
       "    <tr>\n",
       "      <th>0</th>\n",
       "      <td>Marketing has looked at the succesful PR re-la...</td>\n",
       "      <td>2 December 1983 Marketing MKTG 12 English (c) ...</td>\n",
       "      <td>1983-12-02</td>\n",
       "    </tr>\n",
       "    <tr>\n",
       "      <th>1</th>\n",
       "      <td>Johnson and Johnson's Tylenol analgesic capsul...</td>\n",
       "      <td>25 November 1983 Campaign CMPN 8 English (c) 1...</td>\n",
       "      <td>1983-11-25</td>\n",
       "    </tr>\n",
       "    <tr>\n",
       "      <th>2</th>\n",
       "      <td>Johnson and Johnson has reported net earnings ...</td>\n",
       "      <td>28 October 1983 Financial Times FTFT 25 Englis...</td>\n",
       "      <td>1983-10-28</td>\n",
       "    </tr>\n",
       "    <tr>\n",
       "      <th>3</th>\n",
       "      <td>Companies and Markets: Drug problems hit Johns...</td>\n",
       "      <td>28 October 1983 The New York Times NYTF Late C...</td>\n",
       "      <td>1983-10-28</td>\n",
       "    </tr>\n",
       "    <tr>\n",
       "      <th>4</th>\n",
       "      <td>JOHNSON &amp; JOHNSON 3RD QTR NET 79C A SHARE VS. ...</td>\n",
       "      <td>28 October 1983 Financial Times FTFT Page 17 E...</td>\n",
       "      <td>1983-10-28</td>\n",
       "    </tr>\n",
       "    <tr>\n",
       "      <th>...</th>\n",
       "      <td>...</td>\n",
       "      <td>...</td>\n",
       "      <td>...</td>\n",
       "    </tr>\n",
       "    <tr>\n",
       "      <th>93</th>\n",
       "      <td>TYLENOL COUPONS TO BE MAILED NATIONALLY BEGINN...</td>\n",
       "      <td>18 October 1982 The Wall Street Journal J Engl...</td>\n",
       "      <td>1982-10-18</td>\n",
       "    </tr>\n",
       "    <tr>\n",
       "      <th>94</th>\n",
       "      <td>Drug Makers Ask U.S. Rules On Packaging</td>\n",
       "      <td>15 October 1982 The Washington Post WP English...</td>\n",
       "      <td>1982-10-15</td>\n",
       "    </tr>\n",
       "    <tr>\n",
       "      <th>95</th>\n",
       "      <td>Suspect in Tylenol Case Once Held in '78 Death</td>\n",
       "      <td>15 October 1982 The New York Times NYTF Late C...</td>\n",
       "      <td>1982-10-15</td>\n",
       "    </tr>\n",
       "    <tr>\n",
       "      <th>96</th>\n",
       "      <td>LEGAL BATTLE OVER WHO IS LIABLE FOR THE TYLENO...</td>\n",
       "      <td>14 October 1982 The New York Times NYTF Late C...</td>\n",
       "      <td>1982-10-14</td>\n",
       "    </tr>\n",
       "    <tr>\n",
       "      <th>97</th>\n",
       "      <td>F.B.I. SEEKS MAN OF TYLENOL EXTORTION CHARGE</td>\n",
       "      <td>14 October 1982 The New York Times NYTF Late C...</td>\n",
       "      <td>1982-10-14</td>\n",
       "    </tr>\n",
       "  </tbody>\n",
       "</table>\n",
       "<p>98 rows × 3 columns</p>\n",
       "</div>"
      ],
      "text/plain": [
       "                                               titles  \\\n",
       "0   Marketing has looked at the succesful PR re-la...   \n",
       "1   Johnson and Johnson's Tylenol analgesic capsul...   \n",
       "2   Johnson and Johnson has reported net earnings ...   \n",
       "3   Companies and Markets: Drug problems hit Johns...   \n",
       "4   JOHNSON & JOHNSON 3RD QTR NET 79C A SHARE VS. ...   \n",
       "..                                                ...   \n",
       "93  TYLENOL COUPONS TO BE MAILED NATIONALLY BEGINN...   \n",
       "94           Drug Makers Ask U.S. Rules On Packaging    \n",
       "95    Suspect in Tylenol Case Once Held in '78 Death    \n",
       "96  LEGAL BATTLE OVER WHO IS LIABLE FOR THE TYLENO...   \n",
       "97      F.B.I. SEEKS MAN OF TYLENOL EXTORTION CHARGE    \n",
       "\n",
       "                                             articles       Date  \n",
       "0   2 December 1983 Marketing MKTG 12 English (c) ... 1983-12-02  \n",
       "1   25 November 1983 Campaign CMPN 8 English (c) 1... 1983-11-25  \n",
       "2   28 October 1983 Financial Times FTFT 25 Englis... 1983-10-28  \n",
       "3   28 October 1983 The New York Times NYTF Late C... 1983-10-28  \n",
       "4   28 October 1983 Financial Times FTFT Page 17 E... 1983-10-28  \n",
       "..                                                ...        ...  \n",
       "93  18 October 1982 The Wall Street Journal J Engl... 1982-10-18  \n",
       "94  15 October 1982 The Washington Post WP English... 1982-10-15  \n",
       "95  15 October 1982 The New York Times NYTF Late C... 1982-10-15  \n",
       "96  14 October 1982 The New York Times NYTF Late C... 1982-10-14  \n",
       "97  14 October 1982 The New York Times NYTF Late C... 1982-10-14  \n",
       "\n",
       "[98 rows x 3 columns]"
      ]
     },
     "execution_count": 35,
     "metadata": {},
     "output_type": "execute_result"
    }
   ],
   "source": [
    "factiva_df"
   ]
  },
  {
   "cell_type": "code",
   "execution_count": 36,
   "metadata": {},
   "outputs": [
    {
     "data": {
      "text/plain": [
       "(array([43., 17.,  9.,  9.,  4.,  1.,  0.,  2.,  5.,  8.]),\n",
       " array([4669. , 4710.4, 4751.8, 4793.2, 4834.6, 4876. , 4917.4, 4958.8,\n",
       "        5000.2, 5041.6, 5083. ]),\n",
       " <BarContainer object of 10 artists>)"
      ]
     },
     "execution_count": 36,
     "metadata": {},
     "output_type": "execute_result"
    },
    {
     "data": {
      "image/png": "[encoded data removed]",
      "text/plain": [
       "<Figure size 432x288 with 1 Axes>"
      ]
     },
     "metadata": {
      "needs_background": "light"
     },
     "output_type": "display_data"
    }
   ],
   "source": [
    "plt.hist(factiva_df['Date'])"
   ]
  },
  {
   "cell_type": "code",
   "execution_count": 66,
   "metadata": {},
   "outputs": [
    {
     "name": "stdout",
     "output_type": "stream",
     "text": [
      "0 Marketing has looked at the succesful PR re-launch of the Johnson and Johnson drug Tylenol. \n",
      "1 Johnson and Johnson's Tylenol analgesic capsules have staged a dramatic recovery since seven people in Chicagodied after taking Tylenol... \n",
      "2 Johnson and Johnson has reported net earnings of $150.3m, or 79 cents a share, for the third quarter of 1983. ..........No Headline \n",
      "3 Companies and Markets: Drug problems hit Johnson &Johnson \n",
      "4 JOHNSON & JOHNSON 3RD QTR NET 79C A SHARE VS. OPER. NET 78C \n",
      "5 Defense Calls Publicity Goal Of Tylenol Extortion Letters \n",
      "6 HEADLINERS \n",
      "7 'HUMANIZING' CORPORATIONS \n",
      "8 Tylenol Letter Writer Denies Profit Motive \n",
      "9 AROUND THE NATION; Arguments Open in Case Of Tylenol Extortion \n",
      "10 AROUND THE NATION; Trial Begins for Suspect In Tylenol Extortion \n",
      "11 AROUND THE NATION; Co-Tylenol Ruled Out As Cause of Man's Death \n",
      "12 Boots pain-relieving drug given approval in US \n",
      "13 ADVERTISING; Bristol-Myers Plans Big Coupon Campaign \n",
      "14 JOHNSON & JOHNSON UNIT HAVING TROUBLE WITH 24-TABLET BOTTLES \n",
      "15 ANNUAL REPORTS: MORE CANDOR \n",
      "16 STERLING DRUG CHALLENGES TYLENOL WITH PANADOL BRAND \n",
      "17 Johnson and Johnson hit by drug recall \n",
      "18 MORE FIRMS USE '800' NUMBERS TO KEEP CUSTOMERS SATISFIED \n",
      "19 ADVERTISING; Datril Takes Aim Again At Nonaspirin Market \n",
      "20 STERLING TO TRY AGAIN WITH A NONASPIRIN DRUG \n",
      "21 JOHNSON & JOHNSON: NEW WOE \n",
      "22 Drug recall may cost Johnson Dollars 20m \n",
      "23 Johnson & Johnson Removes Another Drug After Deaths \n",
      "24 AROUND THE NATION; Jersey Man Sentenced In Tylenol Extortion Case \n",
      "25 JOHNSON & JOHNSON HAS 10.5% NET DROP \n",
      "26 JOHNSON & JOHNSON INC reports earnings for Qtr to Jan 2 \n",
      "27 JOHNSON & JOHNSON 4TH QUARTER NET 42C A SHARE VS. 48C \n",
      "28 PAIN 'RELIEVERS' NEW PACKAGES A BIG PAIN FOR MANY TO OPEN \n",
      "29 Page 1 of 140 © 2020 Factiva, Inc. All rights reserved.\f",
      "In an attempt to recover lost profits due to the poisoned Tylenol scare, Johnson and Johnson has made liabilityclaims totalling $67.4m... \n",
      "30 Campaign has pointed out that the \"comeback assignment\" for Tylenol in the USA is being handled by Compton, partof Saatchi and Saatchi... \n",
      "31 International Companies: Product recall worries US insurers \n",
      "32 McNeil Laboratories, a subsidiary of Johnson and Johnson, has filed suit against a number of insurance companiesto recover the cost of the... \n",
      "33 Information Resources, a part of Hewlett Packard, reports a come back in sales of Johnson and Johnson's productTylenol, thanks to a... \n",
      "34 JOHNSON & JOHNSON UNIT SUES INSURERS OVER TYLENOL RECALL \n",
      "35 JOHNSON & JOHNSON UNIT SUES INSURERS OVER TYLENOL -2- \n",
      "36 STERLING DRUG TO INTRODUCE PANADOL PAIN RELIEVER IN U.S. \n",
      "37 HEADLINERS; Tylenol Extortion Charge \n",
      "38 Market Place; Tamper-Proof Packaging \n",
      "39 AROUND THE NATION; Tylenol Suspect Denies Charges of Extortion \n",
      "40 LEWIS PLEADS INNOCENT IN TYLENOL EXTORTION CASE \n",
      "41 Tylenol Ads to Begin \n",
      "42 Tylenol Posts an Apparent Recovery \n",
      "43 BUSINESS DIGEST; SATURDAY, DECEMBER 25, 1982; The Economy \n",
      "44 TYLENOL REGAINS MOST OF NO. 1 SHARE, ASTOUNDING DOOMSAYERS \n",
      "45 Tylenol: Signs of a Recovery; Johnson & Johnson Even Turns Experts Around\n",
      "46 TYLENOL EXTORTION SUSPECT LEWIS ARRESTED IN NEW YORK \n",
      "47 ANACIN MIGHT FACE PROBLEMS LIKE TYLENOL'S \n",
      "48 TONE OF TYLENOL RIVAL'S ADS SHARPENS IN WAKE OF TRAGEDY \n",
      "49 New Tylenol Packages Shipped to Stores in Northeast \n",
      "50 RIVALS GO FOR TYLENOL MARKET BUT GAINS MAY BE TEMPORARY \n",
      "51 RIVALS GO FOR TYLENOL MARKET -2- \n",
      "52 Companies and Markets: Tightening up packaging - TYLENOL TRAGEDY HOLDS WARNING FOR EUROPE............MAN SOUGHT FOR QUESTIONING IN TYLENOL CASE ARRESTED \n",
      "53 Chicago Tylenol Ban Lifted \n",
      "54 MAYOR BYRNE LIFTS BAN ON SALE OF TYLENOL PRODUCTS IN CHICAGO \n",
      "55 Tylenol Reappearing \n",
      "56 Sister of Poison Victim Sues \n",
      "57 Resurrection of Tylenol Begun \n",
      "58 Advertising; Pointing Way For Tylenol \n",
      "59 Page 2 of 140 © 2020 Factiva, Inc. All rights reserved.\f",
      "JOHNSON & JOHNSON TYLENOL STRATEGY ANOTHER BOLD GAMBLE \n",
      "60 TYLENOL PROBE SCALED BACK AS LEADS DIMINISH \n",
      "61 TYLENOL TAKES THE OFFENSIVE \n",
      "62 Tylenol Is Reintroduced In Triple-Sealed Package \n",
      "63 Johnson and Johnson is to resume marketing of Tylenol pain relieving drugs. \n",
      "64 Johnson and Johnson is to resume marketing of Tylenol pain relieving drugs. \n",
      "65 TYLENOL WILL REAPPEAR IN TRIPLE-SEAL PACKAGE \n",
      "66 JOHNSON & JOHNSON PRESENTS TYLENOL MARKETING PLAN \n",
      "67 JOHNSON & JOHNSON TO UNVEIL MARKETING PLANS FOR TYLENOL \n",
      "68 CONSUMERS EXAMINE PACKAGES CLOSELY SINCE TYLENOL TRAGEDY \n",
      "69 HEARD ON STREET:CAUTION URGED ON DRUG SUPPLIERS, PACKAGERS \n",
      "70 HEARD ON STREET:CAUTION URGED ON DRUG SUPPLIERS -2- \n",
      "71 advertising campaign. \n",
      "72 SUSPECT IN TYLENOL EXTORTION IS ARRESTED IN NEWARK \n",
      "73 U.S. Tax Credit Helps Chrysler Earn Profit For Third Quarter; Texaco Income Off \n",
      "74 Johnson and Johnson has reported earnings of $146.5m, or 78 cents a share, in the third quarter of 1982. \n",
      "75 Johnson and Johnson has reported earnings of $146.5m, or 78 cents a share, in the third quarter of 1982. \n",
      "76 JOHNSON & JOHNSON MOVING TO REBUILD TYLENOL'S IMAGE \n",
      "77 ONE TAINTED TYLENOL BOTTLE SEEN 'SUBSTANTIALLY DIFFERENT' \n",
      "78 JOHNSON & JOHNSON INC reports earnings for Qtr to Oct 3 \n",
      "79 TYLENOL RECALL EXPENSE IS PUT AT $100 MILLION \n",
      "80 Tylenol maker hit by Dollars 50m cost of recalling capsules \n",
      "81 JOHNSON & JOHNSON 3RD QTR OPER NET 78C A SHR VS NET 69C \n",
      "82 MEDICINE MAKERS TO PROVIDE TEMPORARY PROTECTIVE PACKAGING \n",
      "83 HEARD ON STREET: DROP IN J&J STOCK TIED TO TYLENOL INCIDENT \n",
      "84 HEARD ON STREET: DROP IN J&J STOCK TIED TO TYLENOL -2- \n",
      "85 CYANIDE IS FOUND IN 8TH PILL BOTTLE \n",
      "86 JOHNSON & JOHNSON BEGINS BID TO REVIVE SALES OF TYLENOL \n",
      "87 Producer Of Tylenol Is Cleared \n",
      "88 Chicago Check of Tylenol Bottles Yields One More With Cyanid \n",
      "89 FDA CONFIRMS PURITY OF TYLENOL PLANT \n",
      "90 The Fear Of Buying; The Challenge of Rebuilding Public Confidence\n",
      "91 FBI SEEKS FUGITIVE COUPLE FOR QUESTIONING IN TYLENOL DEATHS \n",
      "92 Page 3 of 140 © 2020 Factiva, Inc. All rights reserved.\f",
      "COUPLE SOUGHT IN EXTORTION NOW TIED TO TYLENOL DEATHS \n",
      "93 TYLENOL COUPONS TO BE MAILED NATIONALLY BEGINNING TODAY \n",
      "94 Drug Makers Ask U.S. Rules On Packaging \n",
      "95 Suspect in Tylenol Case Once Held in '78 Death \n",
      "96 LEGAL BATTLE OVER WHO IS LIABLE FOR THE TYLENOL DEATHS; News Analysis \n",
      "97 F.B.I. SEEKS MAN OF TYLENOL EXTORTION CHARGE \n"
     ]
    }
   ],
   "source": [
    "for i in range(98):\n",
    "    print(i, factiva_df.iloc[i,0])"
   ]
  },
  {
   "cell_type": "code",
   "execution_count": 59,
   "metadata": {},
   "outputs": [
    {
     "name": "stdout",
     "output_type": "stream",
     "text": [
      "-0.17261904761904762\n",
      "0.17142857142857143\n",
      "0.04374468484220937\n",
      "~~~~~~\n",
      "-0.17\n",
      "0.16999999999999998\n",
      "-0.013600000000000008\n"
     ]
    },
    {
     "ename": "ValueError",
     "evalue": "Found input variables with inconsistent numbers of samples: [100, 98]",
     "output_type": "error",
     "traceback": [
      "\u001b[0;31m---------------------------------------------------------------------------\u001b[0m",
      "\u001b[0;31mValueError\u001b[0m                                Traceback (most recent call last)",
      "\u001b[0;32m<ipython-input-59-25cd9e7996d5>\u001b[0m in \u001b[0;36m<module>\u001b[0;34m\u001b[0m\n\u001b[1;32m     26\u001b[0m \u001b[0mprint\u001b[0m\u001b[0;34m(\u001b[0m\u001b[0mnp\u001b[0m\u001b[0;34m.\u001b[0m\u001b[0mmean\u001b[0m\u001b[0;34m(\u001b[0m\u001b[0mhss\u001b[0m\u001b[0;34m)\u001b[0m\u001b[0;34m)\u001b[0m\u001b[0;34m\u001b[0m\u001b[0;34m\u001b[0m\u001b[0m\n\u001b[1;32m     27\u001b[0m \u001b[0;34m\u001b[0m\u001b[0m\n\u001b[0;32m---> 28\u001b[0;31m \u001b[0mmetrics\u001b[0m\u001b[0;34m.\u001b[0m\u001b[0mmean_squared_error\u001b[0m\u001b[0;34m(\u001b[0m\u001b[0mhss\u001b[0m\u001b[0;34m,\u001b[0m \u001b[0mfactiva_df\u001b[0m\u001b[0;34m[\u001b[0m\u001b[0;34m'sent_valence'\u001b[0m\u001b[0;34m]\u001b[0m\u001b[0;34m)\u001b[0m\u001b[0;34m\u001b[0m\u001b[0;34m\u001b[0m\u001b[0m\n\u001b[0m",
      "\u001b[0;32m/opt/conda/lib/python3.8/site-packages/sklearn/utils/validation.py\u001b[0m in \u001b[0;36minner_f\u001b[0;34m(*args, **kwargs)\u001b[0m\n\u001b[1;32m     61\u001b[0m             \u001b[0mextra_args\u001b[0m \u001b[0;34m=\u001b[0m \u001b[0mlen\u001b[0m\u001b[0;34m(\u001b[0m\u001b[0margs\u001b[0m\u001b[0;34m)\u001b[0m \u001b[0;34m-\u001b[0m \u001b[0mlen\u001b[0m\u001b[0;34m(\u001b[0m\u001b[0mall_args\u001b[0m\u001b[0;34m)\u001b[0m\u001b[0;34m\u001b[0m\u001b[0;34m\u001b[0m\u001b[0m\n\u001b[1;32m     62\u001b[0m             \u001b[0;32mif\u001b[0m \u001b[0mextra_args\u001b[0m \u001b[0;34m<=\u001b[0m \u001b[0;36m0\u001b[0m\u001b[0;34m:\u001b[0m\u001b[0;34m\u001b[0m\u001b[0;34m\u001b[0m\u001b[0m\n\u001b[0;32m---> 63\u001b[0;31m                 \u001b[0;32mreturn\u001b[0m \u001b[0mf\u001b[0m\u001b[0;34m(\u001b[0m\u001b[0;34m*\u001b[0m\u001b[0margs\u001b[0m\u001b[0;34m,\u001b[0m \u001b[0;34m**\u001b[0m\u001b[0mkwargs\u001b[0m\u001b[0;34m)\u001b[0m\u001b[0;34m\u001b[0m\u001b[0;34m\u001b[0m\u001b[0m\n\u001b[0m\u001b[1;32m     64\u001b[0m \u001b[0;34m\u001b[0m\u001b[0m\n\u001b[1;32m     65\u001b[0m             \u001b[0;31m# extra_args > 0\u001b[0m\u001b[0;34m\u001b[0m\u001b[0;34m\u001b[0m\u001b[0;34m\u001b[0m\u001b[0m\n",
      "\u001b[0;32m/opt/conda/lib/python3.8/site-packages/sklearn/metrics/_regression.py\u001b[0m in \u001b[0;36mmean_squared_error\u001b[0;34m(y_true, y_pred, sample_weight, multioutput, squared)\u001b[0m\n\u001b[1;32m    333\u001b[0m     \u001b[0;36m0.825\u001b[0m\u001b[0;34m...\u001b[0m\u001b[0;34m\u001b[0m\u001b[0;34m\u001b[0m\u001b[0m\n\u001b[1;32m    334\u001b[0m     \"\"\"\n\u001b[0;32m--> 335\u001b[0;31m     y_type, y_true, y_pred, multioutput = _check_reg_targets(\n\u001b[0m\u001b[1;32m    336\u001b[0m         y_true, y_pred, multioutput)\n\u001b[1;32m    337\u001b[0m     \u001b[0mcheck_consistent_length\u001b[0m\u001b[0;34m(\u001b[0m\u001b[0my_true\u001b[0m\u001b[0;34m,\u001b[0m \u001b[0my_pred\u001b[0m\u001b[0;34m,\u001b[0m \u001b[0msample_weight\u001b[0m\u001b[0;34m)\u001b[0m\u001b[0;34m\u001b[0m\u001b[0;34m\u001b[0m\u001b[0m\n",
      "\u001b[0;32m/opt/conda/lib/python3.8/site-packages/sklearn/metrics/_regression.py\u001b[0m in \u001b[0;36m_check_reg_targets\u001b[0;34m(y_true, y_pred, multioutput, dtype)\u001b[0m\n\u001b[1;32m     86\u001b[0m         \u001b[0mthe\u001b[0m \u001b[0mdtype\u001b[0m \u001b[0margument\u001b[0m \u001b[0mpassed\u001b[0m \u001b[0mto\u001b[0m \u001b[0mcheck_array\u001b[0m\u001b[0;34m.\u001b[0m\u001b[0;34m\u001b[0m\u001b[0;34m\u001b[0m\u001b[0m\n\u001b[1;32m     87\u001b[0m     \"\"\"\n\u001b[0;32m---> 88\u001b[0;31m     \u001b[0mcheck_consistent_length\u001b[0m\u001b[0;34m(\u001b[0m\u001b[0my_true\u001b[0m\u001b[0;34m,\u001b[0m \u001b[0my_pred\u001b[0m\u001b[0;34m)\u001b[0m\u001b[0;34m\u001b[0m\u001b[0;34m\u001b[0m\u001b[0m\n\u001b[0m\u001b[1;32m     89\u001b[0m     \u001b[0my_true\u001b[0m \u001b[0;34m=\u001b[0m \u001b[0mcheck_array\u001b[0m\u001b[0;34m(\u001b[0m\u001b[0my_true\u001b[0m\u001b[0;34m,\u001b[0m \u001b[0mensure_2d\u001b[0m\u001b[0;34m=\u001b[0m\u001b[0;32mFalse\u001b[0m\u001b[0;34m,\u001b[0m \u001b[0mdtype\u001b[0m\u001b[0;34m=\u001b[0m\u001b[0mdtype\u001b[0m\u001b[0;34m)\u001b[0m\u001b[0;34m\u001b[0m\u001b[0;34m\u001b[0m\u001b[0m\n\u001b[1;32m     90\u001b[0m     \u001b[0my_pred\u001b[0m \u001b[0;34m=\u001b[0m \u001b[0mcheck_array\u001b[0m\u001b[0;34m(\u001b[0m\u001b[0my_pred\u001b[0m\u001b[0;34m,\u001b[0m \u001b[0mensure_2d\u001b[0m\u001b[0;34m=\u001b[0m\u001b[0;32mFalse\u001b[0m\u001b[0;34m,\u001b[0m \u001b[0mdtype\u001b[0m\u001b[0;34m=\u001b[0m\u001b[0mdtype\u001b[0m\u001b[0;34m)\u001b[0m\u001b[0;34m\u001b[0m\u001b[0;34m\u001b[0m\u001b[0m\n",
      "\u001b[0;32m/opt/conda/lib/python3.8/site-packages/sklearn/utils/validation.py\u001b[0m in \u001b[0;36mcheck_consistent_length\u001b[0;34m(*arrays)\u001b[0m\n\u001b[1;32m    260\u001b[0m     \u001b[0muniques\u001b[0m \u001b[0;34m=\u001b[0m \u001b[0mnp\u001b[0m\u001b[0;34m.\u001b[0m\u001b[0munique\u001b[0m\u001b[0;34m(\u001b[0m\u001b[0mlengths\u001b[0m\u001b[0;34m)\u001b[0m\u001b[0;34m\u001b[0m\u001b[0;34m\u001b[0m\u001b[0m\n\u001b[1;32m    261\u001b[0m     \u001b[0;32mif\u001b[0m \u001b[0mlen\u001b[0m\u001b[0;34m(\u001b[0m\u001b[0muniques\u001b[0m\u001b[0;34m)\u001b[0m \u001b[0;34m>\u001b[0m \u001b[0;36m1\u001b[0m\u001b[0;34m:\u001b[0m\u001b[0;34m\u001b[0m\u001b[0;34m\u001b[0m\u001b[0m\n\u001b[0;32m--> 262\u001b[0;31m         raise ValueError(\"Found input variables with inconsistent numbers of\"\n\u001b[0m\u001b[1;32m    263\u001b[0m                          \" samples: %r\" % [int(l) for l in lengths])\n\u001b[1;32m    264\u001b[0m \u001b[0;34m\u001b[0m\u001b[0m\n",
      "\u001b[0;31mValueError\u001b[0m: Found input variables with inconsistent numbers of samples: [100, 98]"
     ]
    }
   ],
   "source": [
    "# Hanks Ranking of every article in the 100 as a test\n",
    "# done w.r.t. tone and relevance ie a negative article \n",
    "# about J&J's competitor is good\n",
    "\n",
    "hss = minmax_scale([6, 8, 5, 3, 2, 3, 4, 3, 6, 3,\n",
    "                  2, 2, 4, 7, 6, 4, 6, 5, 3, 4,\n",
    "                  6, 7, 2, 3, 2, 6, 2, 5, 4, 4,\n",
    "                  5, 5, 6, 6, 8, 6, 6, 5, 4, 4,\n",
    "                  6, 6, 7, 8, 7, 9, 8, 7, 4, 3,\n",
    "                  5, 4, 4, 2, 6, 7, 7, 8, 2, 7,\n",
    "                  3, 6, 1, 4, 4, 6, 6, 6, 7, 6,\n",
    "                  4, 3, 4, 2, 6, 3, 3, 3, 6, 2,\n",
    "                  3, 2, 2, 1, 3, 2, 2, 1, 7, 7,\n",
    "                  1, 8, 5, 6, 7, 6, 5, 7, 3, 6], (-0.17,0.17))\n",
    "\n",
    "factiva_df['sent_valence'] = factiva_df['articles'].apply(get_valence, 1)\n",
    "factiva_df.head()\n",
    "print(min(factiva_df['sent_valence']))\n",
    "print(max(factiva_df['sent_valence']))\n",
    "print(np.mean(factiva_df['sent_valence']))\n",
    "\n",
    "print('~~~~~~')\n",
    "\n",
    "print(min(hss))\n",
    "print(max(hss))\n",
    "print(np.mean(hss))\n",
    "\n",
    "metrics.mean_squared_error(hss, factiva_df['sent_valence'])"
   ]
  },
  {
   "cell_type": "markdown",
   "metadata": {},
   "source": [
    "## Twitter API"
   ]
  },
  {
   "cell_type": "markdown",
   "metadata": {},
   "source": [
    "In addition to pulling data from Factiva or other traditional print media, we may also use data from social media platforms such as Twitter in our analysis.  .In order to use the Twitter API we will need to create a Twitter developer account and get assigned an API key as well as a bearer token. "
   ]
  },
  {
   "cell_type": "code",
   "execution_count": 32,
   "metadata": {},
   "outputs": [],
   "source": [
    "\n",
    "def auth():\n",
    "    return os.environ.get(\"BEARER_TOKEN\")\n",
    "\n",
    "\n",
    "# Might wanna pass this a dict\n",
    "def create_url(user_id = 20457806,\n",
    "               start_time='2009-02-19T19:12:13.000Z', \n",
    "               end_time='2018-03-06T00:00:00Z'):\n",
    "    # Replace with user ID below\n",
    "    # Start Time limited to 2010-11-06T00:00:00-00:00\n",
    "    #return \"https://api.twitter.com/2/users/{}/tweets?end_time={}\".format(user_id, end_time)\n",
    "    return \"https://api.twitter.com/2/users/{}/tweets?end_time={}\".format(user_id, end_time)\n",
    "\n",
    "def user_created_at(user_id = 20457806):\n",
    "    return 'https://api.twitter.com/2/users/{}'.format(user_id)\n",
    "\n",
    "def get_params(page=''):\n",
    "    # Tweet fields are adjustable.\n",
    "    # Options include:\n",
    "    # attachments, author_id, context_annotations,\n",
    "    # conversation_id, created_at, entities, geo, id,\n",
    "    # in_reply_to_user_id, lang, non_public_metrics, organic_metrics,\n",
    "    # possibly_sensitive, promoted_metrics, public_metrics, referenced_tweets,\n",
    "    # source, text, and withheld\n",
    "    page = page\n",
    "    if page:\n",
    "         return {\"tweet.fields\": \"created_at\", \"pagination_token\":page}\n",
    "    else:\n",
    "        return {\"tweet.fields\": \"created_at\", }\n",
    "\n",
    "\n",
    "def create_headers(bearer_token):\n",
    "    headers = {\"Authorization\": \"Bearer {}\".format(bearer_token)}\n",
    "    return headers\n",
    "\n",
    "\n",
    "def connect_to_endpoint(url, headers, params):\n",
    "    response = requests.request(\"GET\", url, headers=headers, params=params)\n",
    "    print(response.status_code)\n",
    "    if response.status_code != 200:\n",
    "        raise Exception(\n",
    "            \"Request returned an error: {} {}\".format(\n",
    "                response.status_code, response.text\n",
    "            )\n",
    "        )\n",
    "    return response.json()\n",
    "\n",
    "\n",
    "def main(page='', state=[]):\n",
    "    bearer_token = auth()\n",
    "    url = create_url()\n",
    "    headers = create_headers(bearer_token)\n",
    "    params = get_params(page)\n",
    "    json_response = connect_to_endpoint(url, headers, params)\n",
    "    state=state+json_response['data']\n",
    "    try:\n",
    "        return main(page=json_response['meta']['next_token'], state=state)\n",
    "    except KeyError as e:\n",
    "        print(e)\n",
    "        return state\n",
    "    #return json.dumps(json_response, indent=4, sort_keys=True)\n",
    "\n",
    "def get_acct_age(user_id=20457806):\n",
    "    bearer_token=auth()\n",
    "    url='https://api.twitter.com/2/users/{}'.format(user_id)\n",
    "    headers = create_headers(bearer_token)\n",
    "    params={'user.fields':'created_at'}\n",
    "    json_response = connect_to_endpoint(url, headers, params)\n",
    "    return json_response"
   ]
  },
  {
   "cell_type": "code",
   "execution_count": 33,
   "metadata": {},
   "outputs": [
    {
     "name": "stdout",
     "output_type": "stream",
     "text": [
      "200\n",
      "200\n",
      "'next_token'\n"
     ]
    }
   ],
   "source": [
    "x = main()"
   ]
  },
  {
   "cell_type": "code",
   "execution_count": 37,
   "metadata": {},
   "outputs": [],
   "source": [
    "# 3236 most recent tweets\n",
    "recent_tweets = open('recent_tweets.pkl', 'ab') \n",
    "      \n",
    "pickle.dump(x, recent_tweets)                      \n",
    "recent_tweets.close() "
   ]
  },
  {
   "cell_type": "markdown",
   "metadata": {},
   "source": [
    "-----------"
   ]
  },
  {
   "cell_type": "code",
   "execution_count": 55,
   "metadata": {},
   "outputs": [],
   "source": [
    "objects = []\n",
    "with (open(\"recent_tweets.pkl\", \"rb\")) as openfile:\n",
    "    while True:\n",
    "        try:\n",
    "            objects.append(pickle.load(openfile))\n",
    "        except EOFError:\n",
    "            break"
   ]
  },
  {
   "cell_type": "code",
   "execution_count": 56,
   "metadata": {},
   "outputs": [
    {
     "data": {
      "text/plain": [
       "3236"
      ]
     },
     "execution_count": 56,
     "metadata": {},
     "output_type": "execute_result"
    }
   ],
   "source": [
    "len(objects[0])"
   ]
  },
  {
   "cell_type": "code",
   "execution_count": 28,
   "metadata": {},
   "outputs": [],
   "source": [
    "created_at = [i['created_at'] for i in objects[0]]\n",
    "tweet_id = [j['id'] for j in objects[0]]\n",
    "text = [k['text'] for k in objects[0]]\n",
    "\n",
    "df = pd.DataFrame({'created_at':created_at,\n",
    "                 'tweet_id':tweet_id,\n",
    "                 'text':text})"
   ]
  },
  {
   "cell_type": "code",
   "execution_count": 30,
   "metadata": {},
   "outputs": [
    {
     "data": {
      "text/plain": [
       "'2018-02-21T19:00:06.000Z'"
      ]
     },
     "execution_count": 30,
     "metadata": {},
     "output_type": "execute_result"
    }
   ],
   "source": [
    "min(df['created_at'])"
   ]
  },
  {
   "cell_type": "code",
   "execution_count": null,
   "metadata": {},
   "outputs": [],
   "source": [
    "------------"
   ]
  }
 ],
 "metadata": {
  "kernelspec": {
   "display_name": "Python 3",
   "language": "python",
   "name": "python3"
  },
  "language_info": {
   "codemirror_mode": {
    "name": "ipython",
    "version": 3
   },
   "file_extension": ".py",
   "mimetype": "text/x-python",
   "name": "python",
   "nbconvert_exporter": "python",
   "pygments_lexer": "ipython3",
   "version": "3.8.6"
  }
 },
 "nbformat": 4,
 "nbformat_minor": 4
}
